{
  "nbformat": 4,
  "nbformat_minor": 0,
  "metadata": {
    "colab": {
      "provenance": [],
      "toc_visible": true
    },
    "kernelspec": {
      "name": "python3",
      "display_name": "Python 3"
    },
    "language_info": {
      "name": "python"
    }
  },
  "cells": [
    {
      "cell_type": "markdown",
      "source": [
        "## **Importação das bibliotecas**\n",
        "\n",
        "\n",
        "\n",
        "\n",
        "\n",
        "\n",
        "\n"
      ],
      "metadata": {
        "id": "Q5iHRr5xBmwm"
      }
    },
    {
      "cell_type": "code",
      "execution_count": 52,
      "metadata": {
        "id": "6S3iavLoBiSO"
      },
      "outputs": [],
      "source": [
        "import pandas as pd\n",
        "import numpy as np\n",
        "import matplotlib.pyplot as plt\n",
        "from matplotlib.cm import get_cmap\n"
      ]
    },
    {
      "cell_type": "markdown",
      "source": [
        "## **Limpeza e criação do DataSet**\n"
      ],
      "metadata": {
        "id": "ERcvCdJJCYCm"
      }
    },
    {
      "cell_type": "code",
      "source": [
        "dataset = pd.read_csv('vava.csv')\n"
      ],
      "metadata": {
        "id": "xTgcUrtZBymf"
      },
      "execution_count": 53,
      "outputs": []
    },
    {
      "cell_type": "code",
      "source": [
        "dataset.head()"
      ],
      "metadata": {
        "colab": {
          "base_uri": "https://localhost:8080/",
          "height": 268
        },
        "id": "g1xw52dXFxJJ",
        "outputId": "01fe3037-5f17-4894-9c63-fc431aa8791f"
      },
      "execution_count": 54,
      "outputs": [
        {
          "output_type": "execute_result",
          "data": {
            "text/plain": [
              "    Player  Team Nationality  Kill  Death   K/D KAST         Prize  \\\n",
              "0     Sacy  LOUD      Brazil   147    123  1.20  76%  \\t$60,000.00   \n",
              "1  saadhak  LOUD   Argentina   150    143  1.05  76%  \\t$60,000.00   \n",
              "2  pANcada  LOUD      Brazil   169    137  1.23  81%  \\t$60,000.00   \n",
              "3     Less  LOUD      Brazil   176    134  1.31  73%  \\t$60,000.00   \n",
              "4    aspas  LOUD      Brazil   166    158  1.05  71%  \\t$60,000.00   \n",
              "\n",
              "         Role   HS %  Rounds Played  Rounds Win  Rounds Lose Rank  \n",
              "0   Initiator  25.50            222         155           67    1  \n",
              "1   Initiator  22.50            222         155           67    1  \n",
              "2  Controller  36.75            222         155           67    1  \n",
              "3    Sentinel  26.50            222         155           67    1  \n",
              "4     Duelist  26.25            222         155           67    1  "
            ],
            "text/html": [
              "\n",
              "  <div id=\"df-b1520079-2409-481d-b0cb-754f0444b735\">\n",
              "    <div class=\"colab-df-container\">\n",
              "      <div>\n",
              "<style scoped>\n",
              "    .dataframe tbody tr th:only-of-type {\n",
              "        vertical-align: middle;\n",
              "    }\n",
              "\n",
              "    .dataframe tbody tr th {\n",
              "        vertical-align: top;\n",
              "    }\n",
              "\n",
              "    .dataframe thead th {\n",
              "        text-align: right;\n",
              "    }\n",
              "</style>\n",
              "<table border=\"1\" class=\"dataframe\">\n",
              "  <thead>\n",
              "    <tr style=\"text-align: right;\">\n",
              "      <th></th>\n",
              "      <th>Player</th>\n",
              "      <th>Team</th>\n",
              "      <th>Nationality</th>\n",
              "      <th>Kill</th>\n",
              "      <th>Death</th>\n",
              "      <th>K/D</th>\n",
              "      <th>KAST</th>\n",
              "      <th>Prize</th>\n",
              "      <th>Role</th>\n",
              "      <th>HS %</th>\n",
              "      <th>Rounds Played</th>\n",
              "      <th>Rounds Win</th>\n",
              "      <th>Rounds Lose</th>\n",
              "      <th>Rank</th>\n",
              "    </tr>\n",
              "  </thead>\n",
              "  <tbody>\n",
              "    <tr>\n",
              "      <th>0</th>\n",
              "      <td>Sacy</td>\n",
              "      <td>LOUD</td>\n",
              "      <td>Brazil</td>\n",
              "      <td>147</td>\n",
              "      <td>123</td>\n",
              "      <td>1.20</td>\n",
              "      <td>76%</td>\n",
              "      <td>\\t$60,000.00</td>\n",
              "      <td>Initiator</td>\n",
              "      <td>25.50</td>\n",
              "      <td>222</td>\n",
              "      <td>155</td>\n",
              "      <td>67</td>\n",
              "      <td>1</td>\n",
              "    </tr>\n",
              "    <tr>\n",
              "      <th>1</th>\n",
              "      <td>saadhak</td>\n",
              "      <td>LOUD</td>\n",
              "      <td>Argentina</td>\n",
              "      <td>150</td>\n",
              "      <td>143</td>\n",
              "      <td>1.05</td>\n",
              "      <td>76%</td>\n",
              "      <td>\\t$60,000.00</td>\n",
              "      <td>Initiator</td>\n",
              "      <td>22.50</td>\n",
              "      <td>222</td>\n",
              "      <td>155</td>\n",
              "      <td>67</td>\n",
              "      <td>1</td>\n",
              "    </tr>\n",
              "    <tr>\n",
              "      <th>2</th>\n",
              "      <td>pANcada</td>\n",
              "      <td>LOUD</td>\n",
              "      <td>Brazil</td>\n",
              "      <td>169</td>\n",
              "      <td>137</td>\n",
              "      <td>1.23</td>\n",
              "      <td>81%</td>\n",
              "      <td>\\t$60,000.00</td>\n",
              "      <td>Controller</td>\n",
              "      <td>36.75</td>\n",
              "      <td>222</td>\n",
              "      <td>155</td>\n",
              "      <td>67</td>\n",
              "      <td>1</td>\n",
              "    </tr>\n",
              "    <tr>\n",
              "      <th>3</th>\n",
              "      <td>Less</td>\n",
              "      <td>LOUD</td>\n",
              "      <td>Brazil</td>\n",
              "      <td>176</td>\n",
              "      <td>134</td>\n",
              "      <td>1.31</td>\n",
              "      <td>73%</td>\n",
              "      <td>\\t$60,000.00</td>\n",
              "      <td>Sentinel</td>\n",
              "      <td>26.50</td>\n",
              "      <td>222</td>\n",
              "      <td>155</td>\n",
              "      <td>67</td>\n",
              "      <td>1</td>\n",
              "    </tr>\n",
              "    <tr>\n",
              "      <th>4</th>\n",
              "      <td>aspas</td>\n",
              "      <td>LOUD</td>\n",
              "      <td>Brazil</td>\n",
              "      <td>166</td>\n",
              "      <td>158</td>\n",
              "      <td>1.05</td>\n",
              "      <td>71%</td>\n",
              "      <td>\\t$60,000.00</td>\n",
              "      <td>Duelist</td>\n",
              "      <td>26.25</td>\n",
              "      <td>222</td>\n",
              "      <td>155</td>\n",
              "      <td>67</td>\n",
              "      <td>1</td>\n",
              "    </tr>\n",
              "  </tbody>\n",
              "</table>\n",
              "</div>\n",
              "      <button class=\"colab-df-convert\" onclick=\"convertToInteractive('df-b1520079-2409-481d-b0cb-754f0444b735')\"\n",
              "              title=\"Convert this dataframe to an interactive table.\"\n",
              "              style=\"display:none;\">\n",
              "        \n",
              "  <svg xmlns=\"http://www.w3.org/2000/svg\" height=\"24px\"viewBox=\"0 0 24 24\"\n",
              "       width=\"24px\">\n",
              "    <path d=\"M0 0h24v24H0V0z\" fill=\"none\"/>\n",
              "    <path d=\"M18.56 5.44l.94 2.06.94-2.06 2.06-.94-2.06-.94-.94-2.06-.94 2.06-2.06.94zm-11 1L8.5 8.5l.94-2.06 2.06-.94-2.06-.94L8.5 2.5l-.94 2.06-2.06.94zm10 10l.94 2.06.94-2.06 2.06-.94-2.06-.94-.94-2.06-.94 2.06-2.06.94z\"/><path d=\"M17.41 7.96l-1.37-1.37c-.4-.4-.92-.59-1.43-.59-.52 0-1.04.2-1.43.59L10.3 9.45l-7.72 7.72c-.78.78-.78 2.05 0 2.83L4 21.41c.39.39.9.59 1.41.59.51 0 1.02-.2 1.41-.59l7.78-7.78 2.81-2.81c.8-.78.8-2.07 0-2.86zM5.41 20L4 18.59l7.72-7.72 1.47 1.35L5.41 20z\"/>\n",
              "  </svg>\n",
              "      </button>\n",
              "      \n",
              "  <style>\n",
              "    .colab-df-container {\n",
              "      display:flex;\n",
              "      flex-wrap:wrap;\n",
              "      gap: 12px;\n",
              "    }\n",
              "\n",
              "    .colab-df-convert {\n",
              "      background-color: #E8F0FE;\n",
              "      border: none;\n",
              "      border-radius: 50%;\n",
              "      cursor: pointer;\n",
              "      display: none;\n",
              "      fill: #1967D2;\n",
              "      height: 32px;\n",
              "      padding: 0 0 0 0;\n",
              "      width: 32px;\n",
              "    }\n",
              "\n",
              "    .colab-df-convert:hover {\n",
              "      background-color: #E2EBFA;\n",
              "      box-shadow: 0px 1px 2px rgba(60, 64, 67, 0.3), 0px 1px 3px 1px rgba(60, 64, 67, 0.15);\n",
              "      fill: #174EA6;\n",
              "    }\n",
              "\n",
              "    [theme=dark] .colab-df-convert {\n",
              "      background-color: #3B4455;\n",
              "      fill: #D2E3FC;\n",
              "    }\n",
              "\n",
              "    [theme=dark] .colab-df-convert:hover {\n",
              "      background-color: #434B5C;\n",
              "      box-shadow: 0px 1px 3px 1px rgba(0, 0, 0, 0.15);\n",
              "      filter: drop-shadow(0px 1px 2px rgba(0, 0, 0, 0.3));\n",
              "      fill: #FFFFFF;\n",
              "    }\n",
              "  </style>\n",
              "\n",
              "      <script>\n",
              "        const buttonEl =\n",
              "          document.querySelector('#df-b1520079-2409-481d-b0cb-754f0444b735 button.colab-df-convert');\n",
              "        buttonEl.style.display =\n",
              "          google.colab.kernel.accessAllowed ? 'block' : 'none';\n",
              "\n",
              "        async function convertToInteractive(key) {\n",
              "          const element = document.querySelector('#df-b1520079-2409-481d-b0cb-754f0444b735');\n",
              "          const dataTable =\n",
              "            await google.colab.kernel.invokeFunction('convertToInteractive',\n",
              "                                                     [key], {});\n",
              "          if (!dataTable) return;\n",
              "\n",
              "          const docLinkHtml = 'Like what you see? Visit the ' +\n",
              "            '<a target=\"_blank\" href=https://colab.research.google.com/notebooks/data_table.ipynb>data table notebook</a>'\n",
              "            + ' to learn more about interactive tables.';\n",
              "          element.innerHTML = '';\n",
              "          dataTable['output_type'] = 'display_data';\n",
              "          await google.colab.output.renderOutput(dataTable, element);\n",
              "          const docLink = document.createElement('div');\n",
              "          docLink.innerHTML = docLinkHtml;\n",
              "          element.appendChild(docLink);\n",
              "        }\n",
              "      </script>\n",
              "    </div>\n",
              "  </div>\n",
              "  "
            ]
          },
          "metadata": {},
          "execution_count": 54
        }
      ]
    },
    {
      "cell_type": "code",
      "source": [
        "dataset.dtypes"
      ],
      "metadata": {
        "colab": {
          "base_uri": "https://localhost:8080/"
        },
        "id": "gIRVAb1vDutE",
        "outputId": "7c156ea3-54a4-4534-c854-c6f90694b5c0"
      },
      "execution_count": 55,
      "outputs": [
        {
          "output_type": "execute_result",
          "data": {
            "text/plain": [
              "Player            object\n",
              "Team              object\n",
              "Nationality       object\n",
              "Kill               int64\n",
              "Death              int64\n",
              "K/D              float64\n",
              "KAST              object\n",
              "Prize             object\n",
              "Role              object\n",
              "HS %             float64\n",
              "Rounds Played      int64\n",
              "Rounds Win         int64\n",
              "Rounds Lose        int64\n",
              "Rank              object\n",
              "dtype: object"
            ]
          },
          "metadata": {},
          "execution_count": 55
        }
      ]
    },
    {
      "cell_type": "code",
      "source": [
        "dataset[dataset.isnull()].sum()"
      ],
      "metadata": {
        "colab": {
          "base_uri": "https://localhost:8080/"
        },
        "id": "2BpNgbjhEGwY",
        "outputId": "87ad424e-70f6-403d-f1cc-2b3d840ba255"
      },
      "execution_count": 56,
      "outputs": [
        {
          "output_type": "execute_result",
          "data": {
            "text/plain": [
              "Player             0\n",
              "Team               0\n",
              "Nationality        0\n",
              "Kill             0.0\n",
              "Death            0.0\n",
              "K/D              0.0\n",
              "KAST               0\n",
              "Prize              0\n",
              "Role               0\n",
              "HS %             0.0\n",
              "Rounds Played    0.0\n",
              "Rounds Win       0.0\n",
              "Rounds Lose      0.0\n",
              "Rank               0\n",
              "dtype: object"
            ]
          },
          "metadata": {},
          "execution_count": 56
        }
      ]
    },
    {
      "cell_type": "code",
      "source": [
        "df = dataset[['Player', 'Team', 'Nationality', 'Kill', 'Death', 'K/D', 'KAST', 'Prize', 'Role', 'HS %', 'Rounds Played', 'Rounds Win', 'Rounds Lose', 'Rank']]"
      ],
      "metadata": {
        "id": "pKc2gd-jHh1q"
      },
      "execution_count": 57,
      "outputs": []
    },
    {
      "cell_type": "code",
      "source": [
        "df.columns = ['Jogador', 'Equipe', 'Nacionalidade', 'Matou', 'Morreu', 'K/D', 'KAST', 'Ganhos', 'Função', 'HS%', 'Rodadas Jogadas', 'Rodadas Vencidas', 'Rodadas Perdidas', 'Rank' ]"
      ],
      "metadata": {
        "id": "Zi2X-6YxHmPZ"
      },
      "execution_count": 58,
      "outputs": []
    },
    {
      "cell_type": "code",
      "source": [
        "df['Função'] = df['Função'].replace({'Initiator': 'Iniciador', 'Sentinel': 'Sentinela', 'Controller': 'Controlador', 'Duelist': 'Duelista', 'Flex': 'Flex'})\n"
      ],
      "metadata": {
        "id": "1XjYuEuEl1PD"
      },
      "execution_count": 59,
      "outputs": []
    },
    {
      "cell_type": "code",
      "source": [
        "df.head()"
      ],
      "metadata": {
        "colab": {
          "base_uri": "https://localhost:8080/",
          "height": 288
        },
        "id": "6l4IB5uHK5ta",
        "outputId": "f2857639-4295-4d60-a6a3-f013855f07f5"
      },
      "execution_count": 60,
      "outputs": [
        {
          "output_type": "execute_result",
          "data": {
            "text/plain": [
              "   Jogador Equipe Nacionalidade  Matou  Morreu   K/D KAST        Ganhos  \\\n",
              "0     Sacy   LOUD        Brazil    147     123  1.20  76%  \\t$60,000.00   \n",
              "1  saadhak   LOUD     Argentina    150     143  1.05  76%  \\t$60,000.00   \n",
              "2  pANcada   LOUD        Brazil    169     137  1.23  81%  \\t$60,000.00   \n",
              "3     Less   LOUD        Brazil    176     134  1.31  73%  \\t$60,000.00   \n",
              "4    aspas   LOUD        Brazil    166     158  1.05  71%  \\t$60,000.00   \n",
              "\n",
              "        Função    HS%  Rodadas Jogadas  Rodadas Vencidas  Rodadas Perdidas  \\\n",
              "0    Iniciador  25.50              222               155                67   \n",
              "1    Iniciador  22.50              222               155                67   \n",
              "2  Controlador  36.75              222               155                67   \n",
              "3    Sentinela  26.50              222               155                67   \n",
              "4     Duelista  26.25              222               155                67   \n",
              "\n",
              "  Rank  \n",
              "0    1  \n",
              "1    1  \n",
              "2    1  \n",
              "3    1  \n",
              "4    1  "
            ],
            "text/html": [
              "\n",
              "  <div id=\"df-68248a77-f0f9-4777-8dda-e8185c1a67a5\">\n",
              "    <div class=\"colab-df-container\">\n",
              "      <div>\n",
              "<style scoped>\n",
              "    .dataframe tbody tr th:only-of-type {\n",
              "        vertical-align: middle;\n",
              "    }\n",
              "\n",
              "    .dataframe tbody tr th {\n",
              "        vertical-align: top;\n",
              "    }\n",
              "\n",
              "    .dataframe thead th {\n",
              "        text-align: right;\n",
              "    }\n",
              "</style>\n",
              "<table border=\"1\" class=\"dataframe\">\n",
              "  <thead>\n",
              "    <tr style=\"text-align: right;\">\n",
              "      <th></th>\n",
              "      <th>Jogador</th>\n",
              "      <th>Equipe</th>\n",
              "      <th>Nacionalidade</th>\n",
              "      <th>Matou</th>\n",
              "      <th>Morreu</th>\n",
              "      <th>K/D</th>\n",
              "      <th>KAST</th>\n",
              "      <th>Ganhos</th>\n",
              "      <th>Função</th>\n",
              "      <th>HS%</th>\n",
              "      <th>Rodadas Jogadas</th>\n",
              "      <th>Rodadas Vencidas</th>\n",
              "      <th>Rodadas Perdidas</th>\n",
              "      <th>Rank</th>\n",
              "    </tr>\n",
              "  </thead>\n",
              "  <tbody>\n",
              "    <tr>\n",
              "      <th>0</th>\n",
              "      <td>Sacy</td>\n",
              "      <td>LOUD</td>\n",
              "      <td>Brazil</td>\n",
              "      <td>147</td>\n",
              "      <td>123</td>\n",
              "      <td>1.20</td>\n",
              "      <td>76%</td>\n",
              "      <td>\\t$60,000.00</td>\n",
              "      <td>Iniciador</td>\n",
              "      <td>25.50</td>\n",
              "      <td>222</td>\n",
              "      <td>155</td>\n",
              "      <td>67</td>\n",
              "      <td>1</td>\n",
              "    </tr>\n",
              "    <tr>\n",
              "      <th>1</th>\n",
              "      <td>saadhak</td>\n",
              "      <td>LOUD</td>\n",
              "      <td>Argentina</td>\n",
              "      <td>150</td>\n",
              "      <td>143</td>\n",
              "      <td>1.05</td>\n",
              "      <td>76%</td>\n",
              "      <td>\\t$60,000.00</td>\n",
              "      <td>Iniciador</td>\n",
              "      <td>22.50</td>\n",
              "      <td>222</td>\n",
              "      <td>155</td>\n",
              "      <td>67</td>\n",
              "      <td>1</td>\n",
              "    </tr>\n",
              "    <tr>\n",
              "      <th>2</th>\n",
              "      <td>pANcada</td>\n",
              "      <td>LOUD</td>\n",
              "      <td>Brazil</td>\n",
              "      <td>169</td>\n",
              "      <td>137</td>\n",
              "      <td>1.23</td>\n",
              "      <td>81%</td>\n",
              "      <td>\\t$60,000.00</td>\n",
              "      <td>Controlador</td>\n",
              "      <td>36.75</td>\n",
              "      <td>222</td>\n",
              "      <td>155</td>\n",
              "      <td>67</td>\n",
              "      <td>1</td>\n",
              "    </tr>\n",
              "    <tr>\n",
              "      <th>3</th>\n",
              "      <td>Less</td>\n",
              "      <td>LOUD</td>\n",
              "      <td>Brazil</td>\n",
              "      <td>176</td>\n",
              "      <td>134</td>\n",
              "      <td>1.31</td>\n",
              "      <td>73%</td>\n",
              "      <td>\\t$60,000.00</td>\n",
              "      <td>Sentinela</td>\n",
              "      <td>26.50</td>\n",
              "      <td>222</td>\n",
              "      <td>155</td>\n",
              "      <td>67</td>\n",
              "      <td>1</td>\n",
              "    </tr>\n",
              "    <tr>\n",
              "      <th>4</th>\n",
              "      <td>aspas</td>\n",
              "      <td>LOUD</td>\n",
              "      <td>Brazil</td>\n",
              "      <td>166</td>\n",
              "      <td>158</td>\n",
              "      <td>1.05</td>\n",
              "      <td>71%</td>\n",
              "      <td>\\t$60,000.00</td>\n",
              "      <td>Duelista</td>\n",
              "      <td>26.25</td>\n",
              "      <td>222</td>\n",
              "      <td>155</td>\n",
              "      <td>67</td>\n",
              "      <td>1</td>\n",
              "    </tr>\n",
              "  </tbody>\n",
              "</table>\n",
              "</div>\n",
              "      <button class=\"colab-df-convert\" onclick=\"convertToInteractive('df-68248a77-f0f9-4777-8dda-e8185c1a67a5')\"\n",
              "              title=\"Convert this dataframe to an interactive table.\"\n",
              "              style=\"display:none;\">\n",
              "        \n",
              "  <svg xmlns=\"http://www.w3.org/2000/svg\" height=\"24px\"viewBox=\"0 0 24 24\"\n",
              "       width=\"24px\">\n",
              "    <path d=\"M0 0h24v24H0V0z\" fill=\"none\"/>\n",
              "    <path d=\"M18.56 5.44l.94 2.06.94-2.06 2.06-.94-2.06-.94-.94-2.06-.94 2.06-2.06.94zm-11 1L8.5 8.5l.94-2.06 2.06-.94-2.06-.94L8.5 2.5l-.94 2.06-2.06.94zm10 10l.94 2.06.94-2.06 2.06-.94-2.06-.94-.94-2.06-.94 2.06-2.06.94z\"/><path d=\"M17.41 7.96l-1.37-1.37c-.4-.4-.92-.59-1.43-.59-.52 0-1.04.2-1.43.59L10.3 9.45l-7.72 7.72c-.78.78-.78 2.05 0 2.83L4 21.41c.39.39.9.59 1.41.59.51 0 1.02-.2 1.41-.59l7.78-7.78 2.81-2.81c.8-.78.8-2.07 0-2.86zM5.41 20L4 18.59l7.72-7.72 1.47 1.35L5.41 20z\"/>\n",
              "  </svg>\n",
              "      </button>\n",
              "      \n",
              "  <style>\n",
              "    .colab-df-container {\n",
              "      display:flex;\n",
              "      flex-wrap:wrap;\n",
              "      gap: 12px;\n",
              "    }\n",
              "\n",
              "    .colab-df-convert {\n",
              "      background-color: #E8F0FE;\n",
              "      border: none;\n",
              "      border-radius: 50%;\n",
              "      cursor: pointer;\n",
              "      display: none;\n",
              "      fill: #1967D2;\n",
              "      height: 32px;\n",
              "      padding: 0 0 0 0;\n",
              "      width: 32px;\n",
              "    }\n",
              "\n",
              "    .colab-df-convert:hover {\n",
              "      background-color: #E2EBFA;\n",
              "      box-shadow: 0px 1px 2px rgba(60, 64, 67, 0.3), 0px 1px 3px 1px rgba(60, 64, 67, 0.15);\n",
              "      fill: #174EA6;\n",
              "    }\n",
              "\n",
              "    [theme=dark] .colab-df-convert {\n",
              "      background-color: #3B4455;\n",
              "      fill: #D2E3FC;\n",
              "    }\n",
              "\n",
              "    [theme=dark] .colab-df-convert:hover {\n",
              "      background-color: #434B5C;\n",
              "      box-shadow: 0px 1px 3px 1px rgba(0, 0, 0, 0.15);\n",
              "      filter: drop-shadow(0px 1px 2px rgba(0, 0, 0, 0.3));\n",
              "      fill: #FFFFFF;\n",
              "    }\n",
              "  </style>\n",
              "\n",
              "      <script>\n",
              "        const buttonEl =\n",
              "          document.querySelector('#df-68248a77-f0f9-4777-8dda-e8185c1a67a5 button.colab-df-convert');\n",
              "        buttonEl.style.display =\n",
              "          google.colab.kernel.accessAllowed ? 'block' : 'none';\n",
              "\n",
              "        async function convertToInteractive(key) {\n",
              "          const element = document.querySelector('#df-68248a77-f0f9-4777-8dda-e8185c1a67a5');\n",
              "          const dataTable =\n",
              "            await google.colab.kernel.invokeFunction('convertToInteractive',\n",
              "                                                     [key], {});\n",
              "          if (!dataTable) return;\n",
              "\n",
              "          const docLinkHtml = 'Like what you see? Visit the ' +\n",
              "            '<a target=\"_blank\" href=https://colab.research.google.com/notebooks/data_table.ipynb>data table notebook</a>'\n",
              "            + ' to learn more about interactive tables.';\n",
              "          element.innerHTML = '';\n",
              "          dataTable['output_type'] = 'display_data';\n",
              "          await google.colab.output.renderOutput(dataTable, element);\n",
              "          const docLink = document.createElement('div');\n",
              "          docLink.innerHTML = docLinkHtml;\n",
              "          element.appendChild(docLink);\n",
              "        }\n",
              "      </script>\n",
              "    </div>\n",
              "  </div>\n",
              "  "
            ]
          },
          "metadata": {},
          "execution_count": 60
        }
      ]
    },
    {
      "cell_type": "markdown",
      "source": [
        "## ***Separando os melhores por Função***"
      ],
      "metadata": {
        "id": "F95_RhFoM1jM"
      }
    },
    {
      "cell_type": "code",
      "source": [
        "df['Pontos'] = df['K/D'] * (df['Rodadas Vencidas'] - df['Rodadas Perdidas'])\n"
      ],
      "metadata": {
        "id": "N9PuwkxxOVOK"
      },
      "execution_count": 61,
      "outputs": []
    },
    {
      "cell_type": "code",
      "source": [
        "melhores_indices = df.groupby('Função')['Pontos'].nlargest(1).index.get_level_values(1)"
      ],
      "metadata": {
        "id": "WEIgYeA3Ovro"
      },
      "execution_count": 62,
      "outputs": []
    },
    {
      "cell_type": "code",
      "source": [
        "TopPlayers = df.loc[melhores_indices]\n"
      ],
      "metadata": {
        "id": "2XPOxmBAUZnu"
      },
      "execution_count": 63,
      "outputs": []
    },
    {
      "cell_type": "code",
      "source": [
        "TopPlayers['Jogador e Função'] = TopPlayers['Jogador'] + ' (' + TopPlayers['Função'] + ')'\n",
        "TopPlayers\n"
      ],
      "metadata": {
        "colab": {
          "base_uri": "https://localhost:8080/",
          "height": 357
        },
        "id": "T21wCVVfihsK",
        "outputId": "c8f31f79-7f67-4cd9-8ceb-4a98581f2434"
      },
      "execution_count": 64,
      "outputs": [
        {
          "output_type": "execute_result",
          "data": {
            "text/plain": [
              "    Jogador Equipe  Nacionalidade  Matou  Morreu   K/D KAST        Ganhos  \\\n",
              "2   pANcada   LOUD         Brazil    169     137  1.23  81%  \\t$60,000.00   \n",
              "4     aspas   LOUD         Brazil    166     158  1.05  71%  \\t$60,000.00   \n",
              "18     Shao    FPX  International    130     130  1.00  79%  \\t$16,000.00   \n",
              "0      Sacy   LOUD         Brazil    147     123  1.20  76%  \\t$60,000.00   \n",
              "3      Less   LOUD         Brazil    176     134  1.31  73%  \\t$60,000.00   \n",
              "\n",
              "         Função    HS%  Rodadas Jogadas  Rodadas Vencidas  Rodadas Perdidas  \\\n",
              "2   Controlador  36.75              222               155                67   \n",
              "4      Duelista  26.25              222               155                67   \n",
              "18         Flex  29.75              214               118                96   \n",
              "0     Iniciador  25.50              222               155                67   \n",
              "3     Sentinela  26.50              222               155                67   \n",
              "\n",
              "   Rank  Pontos       Jogador e Função  \n",
              "2     1  108.24  pANcada (Controlador)  \n",
              "4     1   92.40       aspas (Duelista)  \n",
              "18    4   22.00            Shao (Flex)  \n",
              "0     1  105.60       Sacy (Iniciador)  \n",
              "3     1  115.28       Less (Sentinela)  "
            ],
            "text/html": [
              "\n",
              "  <div id=\"df-ccdf42ad-1d3b-4bff-b20c-512ca7ad9349\">\n",
              "    <div class=\"colab-df-container\">\n",
              "      <div>\n",
              "<style scoped>\n",
              "    .dataframe tbody tr th:only-of-type {\n",
              "        vertical-align: middle;\n",
              "    }\n",
              "\n",
              "    .dataframe tbody tr th {\n",
              "        vertical-align: top;\n",
              "    }\n",
              "\n",
              "    .dataframe thead th {\n",
              "        text-align: right;\n",
              "    }\n",
              "</style>\n",
              "<table border=\"1\" class=\"dataframe\">\n",
              "  <thead>\n",
              "    <tr style=\"text-align: right;\">\n",
              "      <th></th>\n",
              "      <th>Jogador</th>\n",
              "      <th>Equipe</th>\n",
              "      <th>Nacionalidade</th>\n",
              "      <th>Matou</th>\n",
              "      <th>Morreu</th>\n",
              "      <th>K/D</th>\n",
              "      <th>KAST</th>\n",
              "      <th>Ganhos</th>\n",
              "      <th>Função</th>\n",
              "      <th>HS%</th>\n",
              "      <th>Rodadas Jogadas</th>\n",
              "      <th>Rodadas Vencidas</th>\n",
              "      <th>Rodadas Perdidas</th>\n",
              "      <th>Rank</th>\n",
              "      <th>Pontos</th>\n",
              "      <th>Jogador e Função</th>\n",
              "    </tr>\n",
              "  </thead>\n",
              "  <tbody>\n",
              "    <tr>\n",
              "      <th>2</th>\n",
              "      <td>pANcada</td>\n",
              "      <td>LOUD</td>\n",
              "      <td>Brazil</td>\n",
              "      <td>169</td>\n",
              "      <td>137</td>\n",
              "      <td>1.23</td>\n",
              "      <td>81%</td>\n",
              "      <td>\\t$60,000.00</td>\n",
              "      <td>Controlador</td>\n",
              "      <td>36.75</td>\n",
              "      <td>222</td>\n",
              "      <td>155</td>\n",
              "      <td>67</td>\n",
              "      <td>1</td>\n",
              "      <td>108.24</td>\n",
              "      <td>pANcada (Controlador)</td>\n",
              "    </tr>\n",
              "    <tr>\n",
              "      <th>4</th>\n",
              "      <td>aspas</td>\n",
              "      <td>LOUD</td>\n",
              "      <td>Brazil</td>\n",
              "      <td>166</td>\n",
              "      <td>158</td>\n",
              "      <td>1.05</td>\n",
              "      <td>71%</td>\n",
              "      <td>\\t$60,000.00</td>\n",
              "      <td>Duelista</td>\n",
              "      <td>26.25</td>\n",
              "      <td>222</td>\n",
              "      <td>155</td>\n",
              "      <td>67</td>\n",
              "      <td>1</td>\n",
              "      <td>92.40</td>\n",
              "      <td>aspas (Duelista)</td>\n",
              "    </tr>\n",
              "    <tr>\n",
              "      <th>18</th>\n",
              "      <td>Shao</td>\n",
              "      <td>FPX</td>\n",
              "      <td>International</td>\n",
              "      <td>130</td>\n",
              "      <td>130</td>\n",
              "      <td>1.00</td>\n",
              "      <td>79%</td>\n",
              "      <td>\\t$16,000.00</td>\n",
              "      <td>Flex</td>\n",
              "      <td>29.75</td>\n",
              "      <td>214</td>\n",
              "      <td>118</td>\n",
              "      <td>96</td>\n",
              "      <td>4</td>\n",
              "      <td>22.00</td>\n",
              "      <td>Shao (Flex)</td>\n",
              "    </tr>\n",
              "    <tr>\n",
              "      <th>0</th>\n",
              "      <td>Sacy</td>\n",
              "      <td>LOUD</td>\n",
              "      <td>Brazil</td>\n",
              "      <td>147</td>\n",
              "      <td>123</td>\n",
              "      <td>1.20</td>\n",
              "      <td>76%</td>\n",
              "      <td>\\t$60,000.00</td>\n",
              "      <td>Iniciador</td>\n",
              "      <td>25.50</td>\n",
              "      <td>222</td>\n",
              "      <td>155</td>\n",
              "      <td>67</td>\n",
              "      <td>1</td>\n",
              "      <td>105.60</td>\n",
              "      <td>Sacy (Iniciador)</td>\n",
              "    </tr>\n",
              "    <tr>\n",
              "      <th>3</th>\n",
              "      <td>Less</td>\n",
              "      <td>LOUD</td>\n",
              "      <td>Brazil</td>\n",
              "      <td>176</td>\n",
              "      <td>134</td>\n",
              "      <td>1.31</td>\n",
              "      <td>73%</td>\n",
              "      <td>\\t$60,000.00</td>\n",
              "      <td>Sentinela</td>\n",
              "      <td>26.50</td>\n",
              "      <td>222</td>\n",
              "      <td>155</td>\n",
              "      <td>67</td>\n",
              "      <td>1</td>\n",
              "      <td>115.28</td>\n",
              "      <td>Less (Sentinela)</td>\n",
              "    </tr>\n",
              "  </tbody>\n",
              "</table>\n",
              "</div>\n",
              "      <button class=\"colab-df-convert\" onclick=\"convertToInteractive('df-ccdf42ad-1d3b-4bff-b20c-512ca7ad9349')\"\n",
              "              title=\"Convert this dataframe to an interactive table.\"\n",
              "              style=\"display:none;\">\n",
              "        \n",
              "  <svg xmlns=\"http://www.w3.org/2000/svg\" height=\"24px\"viewBox=\"0 0 24 24\"\n",
              "       width=\"24px\">\n",
              "    <path d=\"M0 0h24v24H0V0z\" fill=\"none\"/>\n",
              "    <path d=\"M18.56 5.44l.94 2.06.94-2.06 2.06-.94-2.06-.94-.94-2.06-.94 2.06-2.06.94zm-11 1L8.5 8.5l.94-2.06 2.06-.94-2.06-.94L8.5 2.5l-.94 2.06-2.06.94zm10 10l.94 2.06.94-2.06 2.06-.94-2.06-.94-.94-2.06-.94 2.06-2.06.94z\"/><path d=\"M17.41 7.96l-1.37-1.37c-.4-.4-.92-.59-1.43-.59-.52 0-1.04.2-1.43.59L10.3 9.45l-7.72 7.72c-.78.78-.78 2.05 0 2.83L4 21.41c.39.39.9.59 1.41.59.51 0 1.02-.2 1.41-.59l7.78-7.78 2.81-2.81c.8-.78.8-2.07 0-2.86zM5.41 20L4 18.59l7.72-7.72 1.47 1.35L5.41 20z\"/>\n",
              "  </svg>\n",
              "      </button>\n",
              "      \n",
              "  <style>\n",
              "    .colab-df-container {\n",
              "      display:flex;\n",
              "      flex-wrap:wrap;\n",
              "      gap: 12px;\n",
              "    }\n",
              "\n",
              "    .colab-df-convert {\n",
              "      background-color: #E8F0FE;\n",
              "      border: none;\n",
              "      border-radius: 50%;\n",
              "      cursor: pointer;\n",
              "      display: none;\n",
              "      fill: #1967D2;\n",
              "      height: 32px;\n",
              "      padding: 0 0 0 0;\n",
              "      width: 32px;\n",
              "    }\n",
              "\n",
              "    .colab-df-convert:hover {\n",
              "      background-color: #E2EBFA;\n",
              "      box-shadow: 0px 1px 2px rgba(60, 64, 67, 0.3), 0px 1px 3px 1px rgba(60, 64, 67, 0.15);\n",
              "      fill: #174EA6;\n",
              "    }\n",
              "\n",
              "    [theme=dark] .colab-df-convert {\n",
              "      background-color: #3B4455;\n",
              "      fill: #D2E3FC;\n",
              "    }\n",
              "\n",
              "    [theme=dark] .colab-df-convert:hover {\n",
              "      background-color: #434B5C;\n",
              "      box-shadow: 0px 1px 3px 1px rgba(0, 0, 0, 0.15);\n",
              "      filter: drop-shadow(0px 1px 2px rgba(0, 0, 0, 0.3));\n",
              "      fill: #FFFFFF;\n",
              "    }\n",
              "  </style>\n",
              "\n",
              "      <script>\n",
              "        const buttonEl =\n",
              "          document.querySelector('#df-ccdf42ad-1d3b-4bff-b20c-512ca7ad9349 button.colab-df-convert');\n",
              "        buttonEl.style.display =\n",
              "          google.colab.kernel.accessAllowed ? 'block' : 'none';\n",
              "\n",
              "        async function convertToInteractive(key) {\n",
              "          const element = document.querySelector('#df-ccdf42ad-1d3b-4bff-b20c-512ca7ad9349');\n",
              "          const dataTable =\n",
              "            await google.colab.kernel.invokeFunction('convertToInteractive',\n",
              "                                                     [key], {});\n",
              "          if (!dataTable) return;\n",
              "\n",
              "          const docLinkHtml = 'Like what you see? Visit the ' +\n",
              "            '<a target=\"_blank\" href=https://colab.research.google.com/notebooks/data_table.ipynb>data table notebook</a>'\n",
              "            + ' to learn more about interactive tables.';\n",
              "          element.innerHTML = '';\n",
              "          dataTable['output_type'] = 'display_data';\n",
              "          await google.colab.output.renderOutput(dataTable, element);\n",
              "          const docLink = document.createElement('div');\n",
              "          docLink.innerHTML = docLinkHtml;\n",
              "          element.appendChild(docLink);\n",
              "        }\n",
              "      </script>\n",
              "    </div>\n",
              "  </div>\n",
              "  "
            ]
          },
          "metadata": {},
          "execution_count": 64
        }
      ]
    },
    {
      "cell_type": "code",
      "source": [
        "plt.plot(TopPlayers['Jogador e Função'], TopPlayers['Pontos'], color='red', linestyle='--', marker='o')\n",
        "plt.xlabel('Jogadores', )\n",
        "plt.xticks(rotation=45)\n",
        "plt.ylabel('Pontos')\n",
        "plt.title('Melhores pontuações de cada função')"
      ],
      "metadata": {
        "colab": {
          "base_uri": "https://localhost:8080/",
          "height": 598
        },
        "id": "oywPqTM1Ucoi",
        "outputId": "325270d2-cd38-43fd-d12f-33e1d52bed28"
      },
      "execution_count": 65,
      "outputs": [
        {
          "output_type": "execute_result",
          "data": {
            "text/plain": [
              "Text(0.5, 1.0, 'Melhores pontuações de cada função')"
            ]
          },
          "metadata": {},
          "execution_count": 65
        },
        {
          "output_type": "display_data",
          "data": {
            "text/plain": [
              "<Figure size 640x480 with 1 Axes>"
            ],
            "image/png": "[encoded data removed]"
          },
          "metadata": {}
        }
      ]
    },
    {
      "cell_type": "markdown",
      "source": [
        "## **Separando os piores por Função**## "
      ],
      "metadata": {
        "id": "ufZG5RU9d1s4"
      }
    },
    {
      "cell_type": "code",
      "source": [
        "df['Pontos'] = df['K/D'] * df['Rodadas Vencidas']\n"
      ],
      "metadata": {
        "id": "p_sxiVC1UhZS"
      },
      "execution_count": 66,
      "outputs": []
    },
    {
      "cell_type": "code",
      "source": [
        "piores_indices = df.groupby('Função')['Pontos'].nsmallest(1).index.get_level_values(1)"
      ],
      "metadata": {
        "id": "HsgrvDYeeZdF"
      },
      "execution_count": 67,
      "outputs": []
    },
    {
      "cell_type": "code",
      "source": [
        "BottonPlayers = df.loc[piores_indices]\n"
      ],
      "metadata": {
        "id": "PRzyoBqxefcV"
      },
      "execution_count": 68,
      "outputs": []
    },
    {
      "cell_type": "code",
      "source": [
        "BottonPlayers['Jogador e Função'] = BottonPlayers['Jogador'] + ' (' + BottonPlayers['Função'] + ')'\n",
        "BottonPlayers"
      ],
      "metadata": {
        "colab": {
          "base_uri": "https://localhost:8080/",
          "height": 357
        },
        "id": "y4c_ypTQhWGO",
        "outputId": "5c97f522-5aed-4711-ff63-941cafcbaecb"
      },
      "execution_count": 69,
      "outputs": [
        {
          "output_type": "execute_result",
          "data": {
            "text/plain": [
              "      Jogador Equipe Nacionalidade  Matou  Morreu   K/D KAST       Ganhos  \\\n",
              "33   dimasick     TL    Kazakhstan     54      74  0.73  67%  \\t$8,000.00   \n",
              "32     Scream     TL       Belgium     69      73  0.95  60%  \\t$8,000.00   \n",
              "30     Nivera     TL       Belgium     60      77  0.78  57%  \\t$8,000.00   \n",
              "39       Shyy    LEV         Chile     39      64  0.61  71%  \\t$8,000.00   \n",
              "38  Tacolilla    LEV         Chile     51      68  0.75  63%  \\t$8,000.00   \n",
              "\n",
              "         Função   HS%  Rodadas Jogadas  Rodadas Vencidas  Rodadas Perdidas  \\\n",
              "33  Controlador  38.5               81                42                39   \n",
              "32     Duelista  27.0               81                42                39   \n",
              "30         Flex  33.5               81                42                39   \n",
              "39    Iniciador  22.0               88                35                53   \n",
              "38    Sentinela  24.0               88                35                53   \n",
              "\n",
              "   Rank  Pontos        Jogador e Função  \n",
              "33  7,8   30.66  dimasick (Controlador)  \n",
              "32  7,8   39.90       Scream (Duelista)  \n",
              "30  7,8   32.76           Nivera (Flex)  \n",
              "39  7,8   21.35        Shyy (Iniciador)  \n",
              "38  7,8   26.25   Tacolilla (Sentinela)  "
            ],
            "text/html": [
              "\n",
              "  <div id=\"df-1b4fcf69-ddcd-4c15-92d1-a0f05349ea07\">\n",
              "    <div class=\"colab-df-container\">\n",
              "      <div>\n",
              "<style scoped>\n",
              "    .dataframe tbody tr th:only-of-type {\n",
              "        vertical-align: middle;\n",
              "    }\n",
              "\n",
              "    .dataframe tbody tr th {\n",
              "        vertical-align: top;\n",
              "    }\n",
              "\n",
              "    .dataframe thead th {\n",
              "        text-align: right;\n",
              "    }\n",
              "</style>\n",
              "<table border=\"1\" class=\"dataframe\">\n",
              "  <thead>\n",
              "    <tr style=\"text-align: right;\">\n",
              "      <th></th>\n",
              "      <th>Jogador</th>\n",
              "      <th>Equipe</th>\n",
              "      <th>Nacionalidade</th>\n",
              "      <th>Matou</th>\n",
              "      <th>Morreu</th>\n",
              "      <th>K/D</th>\n",
              "      <th>KAST</th>\n",
              "      <th>Ganhos</th>\n",
              "      <th>Função</th>\n",
              "      <th>HS%</th>\n",
              "      <th>Rodadas Jogadas</th>\n",
              "      <th>Rodadas Vencidas</th>\n",
              "      <th>Rodadas Perdidas</th>\n",
              "      <th>Rank</th>\n",
              "      <th>Pontos</th>\n",
              "      <th>Jogador e Função</th>\n",
              "    </tr>\n",
              "  </thead>\n",
              "  <tbody>\n",
              "    <tr>\n",
              "      <th>33</th>\n",
              "      <td>dimasick</td>\n",
              "      <td>TL</td>\n",
              "      <td>Kazakhstan</td>\n",
              "      <td>54</td>\n",
              "      <td>74</td>\n",
              "      <td>0.73</td>\n",
              "      <td>67%</td>\n",
              "      <td>\\t$8,000.00</td>\n",
              "      <td>Controlador</td>\n",
              "      <td>38.5</td>\n",
              "      <td>81</td>\n",
              "      <td>42</td>\n",
              "      <td>39</td>\n",
              "      <td>7,8</td>\n",
              "      <td>30.66</td>\n",
              "      <td>dimasick (Controlador)</td>\n",
              "    </tr>\n",
              "    <tr>\n",
              "      <th>32</th>\n",
              "      <td>Scream</td>\n",
              "      <td>TL</td>\n",
              "      <td>Belgium</td>\n",
              "      <td>69</td>\n",
              "      <td>73</td>\n",
              "      <td>0.95</td>\n",
              "      <td>60%</td>\n",
              "      <td>\\t$8,000.00</td>\n",
              "      <td>Duelista</td>\n",
              "      <td>27.0</td>\n",
              "      <td>81</td>\n",
              "      <td>42</td>\n",
              "      <td>39</td>\n",
              "      <td>7,8</td>\n",
              "      <td>39.90</td>\n",
              "      <td>Scream (Duelista)</td>\n",
              "    </tr>\n",
              "    <tr>\n",
              "      <th>30</th>\n",
              "      <td>Nivera</td>\n",
              "      <td>TL</td>\n",
              "      <td>Belgium</td>\n",
              "      <td>60</td>\n",
              "      <td>77</td>\n",
              "      <td>0.78</td>\n",
              "      <td>57%</td>\n",
              "      <td>\\t$8,000.00</td>\n",
              "      <td>Flex</td>\n",
              "      <td>33.5</td>\n",
              "      <td>81</td>\n",
              "      <td>42</td>\n",
              "      <td>39</td>\n",
              "      <td>7,8</td>\n",
              "      <td>32.76</td>\n",
              "      <td>Nivera (Flex)</td>\n",
              "    </tr>\n",
              "    <tr>\n",
              "      <th>39</th>\n",
              "      <td>Shyy</td>\n",
              "      <td>LEV</td>\n",
              "      <td>Chile</td>\n",
              "      <td>39</td>\n",
              "      <td>64</td>\n",
              "      <td>0.61</td>\n",
              "      <td>71%</td>\n",
              "      <td>\\t$8,000.00</td>\n",
              "      <td>Iniciador</td>\n",
              "      <td>22.0</td>\n",
              "      <td>88</td>\n",
              "      <td>35</td>\n",
              "      <td>53</td>\n",
              "      <td>7,8</td>\n",
              "      <td>21.35</td>\n",
              "      <td>Shyy (Iniciador)</td>\n",
              "    </tr>\n",
              "    <tr>\n",
              "      <th>38</th>\n",
              "      <td>Tacolilla</td>\n",
              "      <td>LEV</td>\n",
              "      <td>Chile</td>\n",
              "      <td>51</td>\n",
              "      <td>68</td>\n",
              "      <td>0.75</td>\n",
              "      <td>63%</td>\n",
              "      <td>\\t$8,000.00</td>\n",
              "      <td>Sentinela</td>\n",
              "      <td>24.0</td>\n",
              "      <td>88</td>\n",
              "      <td>35</td>\n",
              "      <td>53</td>\n",
              "      <td>7,8</td>\n",
              "      <td>26.25</td>\n",
              "      <td>Tacolilla (Sentinela)</td>\n",
              "    </tr>\n",
              "  </tbody>\n",
              "</table>\n",
              "</div>\n",
              "      <button class=\"colab-df-convert\" onclick=\"convertToInteractive('df-1b4fcf69-ddcd-4c15-92d1-a0f05349ea07')\"\n",
              "              title=\"Convert this dataframe to an interactive table.\"\n",
              "              style=\"display:none;\">\n",
              "        \n",
              "  <svg xmlns=\"http://www.w3.org/2000/svg\" height=\"24px\"viewBox=\"0 0 24 24\"\n",
              "       width=\"24px\">\n",
              "    <path d=\"M0 0h24v24H0V0z\" fill=\"none\"/>\n",
              "    <path d=\"M18.56 5.44l.94 2.06.94-2.06 2.06-.94-2.06-.94-.94-2.06-.94 2.06-2.06.94zm-11 1L8.5 8.5l.94-2.06 2.06-.94-2.06-.94L8.5 2.5l-.94 2.06-2.06.94zm10 10l.94 2.06.94-2.06 2.06-.94-2.06-.94-.94-2.06-.94 2.06-2.06.94z\"/><path d=\"M17.41 7.96l-1.37-1.37c-.4-.4-.92-.59-1.43-.59-.52 0-1.04.2-1.43.59L10.3 9.45l-7.72 7.72c-.78.78-.78 2.05 0 2.83L4 21.41c.39.39.9.59 1.41.59.51 0 1.02-.2 1.41-.59l7.78-7.78 2.81-2.81c.8-.78.8-2.07 0-2.86zM5.41 20L4 18.59l7.72-7.72 1.47 1.35L5.41 20z\"/>\n",
              "  </svg>\n",
              "      </button>\n",
              "      \n",
              "  <style>\n",
              "    .colab-df-container {\n",
              "      display:flex;\n",
              "      flex-wrap:wrap;\n",
              "      gap: 12px;\n",
              "    }\n",
              "\n",
              "    .colab-df-convert {\n",
              "      background-color: #E8F0FE;\n",
              "      border: none;\n",
              "      border-radius: 50%;\n",
              "      cursor: pointer;\n",
              "      display: none;\n",
              "      fill: #1967D2;\n",
              "      height: 32px;\n",
              "      padding: 0 0 0 0;\n",
              "      width: 32px;\n",
              "    }\n",
              "\n",
              "    .colab-df-convert:hover {\n",
              "      background-color: #E2EBFA;\n",
              "      box-shadow: 0px 1px 2px rgba(60, 64, 67, 0.3), 0px 1px 3px 1px rgba(60, 64, 67, 0.15);\n",
              "      fill: #174EA6;\n",
              "    }\n",
              "\n",
              "    [theme=dark] .colab-df-convert {\n",
              "      background-color: #3B4455;\n",
              "      fill: #D2E3FC;\n",
              "    }\n",
              "\n",
              "    [theme=dark] .colab-df-convert:hover {\n",
              "      background-color: #434B5C;\n",
              "      box-shadow: 0px 1px 3px 1px rgba(0, 0, 0, 0.15);\n",
              "      filter: drop-shadow(0px 1px 2px rgba(0, 0, 0, 0.3));\n",
              "      fill: #FFFFFF;\n",
              "    }\n",
              "  </style>\n",
              "\n",
              "      <script>\n",
              "        const buttonEl =\n",
              "          document.querySelector('#df-1b4fcf69-ddcd-4c15-92d1-a0f05349ea07 button.colab-df-convert');\n",
              "        buttonEl.style.display =\n",
              "          google.colab.kernel.accessAllowed ? 'block' : 'none';\n",
              "\n",
              "        async function convertToInteractive(key) {\n",
              "          const element = document.querySelector('#df-1b4fcf69-ddcd-4c15-92d1-a0f05349ea07');\n",
              "          const dataTable =\n",
              "            await google.colab.kernel.invokeFunction('convertToInteractive',\n",
              "                                                     [key], {});\n",
              "          if (!dataTable) return;\n",
              "\n",
              "          const docLinkHtml = 'Like what you see? Visit the ' +\n",
              "            '<a target=\"_blank\" href=https://colab.research.google.com/notebooks/data_table.ipynb>data table notebook</a>'\n",
              "            + ' to learn more about interactive tables.';\n",
              "          element.innerHTML = '';\n",
              "          dataTable['output_type'] = 'display_data';\n",
              "          await google.colab.output.renderOutput(dataTable, element);\n",
              "          const docLink = document.createElement('div');\n",
              "          docLink.innerHTML = docLinkHtml;\n",
              "          element.appendChild(docLink);\n",
              "        }\n",
              "      </script>\n",
              "    </div>\n",
              "  </div>\n",
              "  "
            ]
          },
          "metadata": {},
          "execution_count": 69
        }
      ]
    },
    {
      "cell_type": "code",
      "source": [
        "plt.plot(BottonPlayers['Jogador e Função'], BottonPlayers['Pontos'], color='red', linestyle='--', marker='o')\n",
        "plt.xlabel('Jogadores', )\n",
        "plt.xticks(rotation=45)\n",
        "plt.ylabel('Pontos')\n",
        "plt.title('Piores pontuações de cada função')"
      ],
      "metadata": {
        "colab": {
          "base_uri": "https://localhost:8080/",
          "height": 597
        },
        "id": "sFboUMIpfC54",
        "outputId": "4e1cb4ef-4ad8-445e-a329-44b0b6809ccd"
      },
      "execution_count": 70,
      "outputs": [
        {
          "output_type": "execute_result",
          "data": {
            "text/plain": [
              "Text(0.5, 1.0, 'Piores pontuações de cada função')"
            ]
          },
          "metadata": {},
          "execution_count": 70
        },
        {
          "output_type": "display_data",
          "data": {
            "text/plain": [
              "<Figure size 640x480 with 1 Axes>"
            ],
            "image/png": "[encoded data removed]"
          },
          "metadata": {}
        }
      ]
    },
    {
      "cell_type": "markdown",
      "source": [
        "## **Comparando desempenho por País** "
      ],
      "metadata": {
        "id": "qZO9jDM9nUzt"
      }
    },
    {
      "cell_type": "code",
      "source": [
        "# Criar uma coluna com o nome do país de cada equipe\n",
        "df['Pais'] = df.groupby('Equipe')['Nacionalidade'].transform('first')"
      ],
      "metadata": {
        "id": "FbutKm2SgEXp"
      },
      "execution_count": 71,
      "outputs": []
    },
    {
      "cell_type": "code",
      "source": [
        "# Agrupar por país e equipe, somando os pontos\n",
        "indice_paises = df.groupby(['Pais', 'Equipe'])['Pontos'].sum()"
      ],
      "metadata": {
        "id": "LQLibGHo5shZ"
      },
      "execution_count": 72,
      "outputs": []
    },
    {
      "cell_type": "code",
      "source": [
        "# Gerar gráfico de pizza\n",
        "plt.figure(figsize=(8, 8))\n",
        "indice_paises.plot(kind='pie', autopct='%1.1f%%', startangle=90)\n",
        "plt.tight_layout()\n",
        "\n",
        "# Adicionar legenda com o nome do país de cada equipe\n",
        "legend_labels = [f\"{equipe} ({pais})\" for pais, equipe in indice_paises.index]\n",
        "plt.legend(legend_labels, bbox_to_anchor=(1.05, 1), loc='upper left')\n",
        "\n"
      ],
      "metadata": {
        "colab": {
          "base_uri": "https://localhost:8080/",
          "height": 690
        },
        "id": "Mi9XCocX6HHZ",
        "outputId": "337c9419-1681-4954-b137-4317cdcb0a96"
      },
      "execution_count": 73,
      "outputs": [
        {
          "output_type": "execute_result",
          "data": {
            "text/plain": [
              "<matplotlib.legend.Legend at 0x7f92e6813940>"
            ]
          },
          "metadata": {},
          "execution_count": 73
        },
        {
          "output_type": "display_data",
          "data": {
            "text/plain": [
              "<Figure size 800x800 with 1 Axes>"
            ],
            "image/png": "[encoded data removed]"
          },
          "metadata": {}
        }
      ]
    }
  ]
}